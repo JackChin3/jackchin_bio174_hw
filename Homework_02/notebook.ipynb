{
 "cells": [
  {
   "cell_type": "markdown",
   "metadata": {},
   "source": [
    "## Table: \n",
    "\n",
    "Percentage of total sample (N = 24) meeting criteria for treatment response (reduction in depression ⩾ 50% from pretreatment baseline) or remission (GRID-HAMD score ⩽ 7)\n",
    "\n",
    "|          |      One Week      |      Four Weeks      |      Three Months      |      Six Months      |      Twelve Months      |\n",
    "|----------|:-------------:|:-------------:|:-------------:|:-------------:|:-------------:|\n",
    "| GRID-HAMD Response Rate: | 71% |  71% |  67% |  79% |  75% |\n",
    "| GRID-HAMD Remission Rate: | 58% |  54% |  54% |  71% |  58% |"
   ]
  },
  {
   "cell_type": "markdown",
   "metadata": {},
   "source": [
    "## Video:"
   ]
  },
  {
   "cell_type": "code",
   "execution_count": 1,
   "metadata": {},
   "outputs": [
    {
     "data": {
      "image/jpeg": "[encoded data removed]",
      "text/html": [
       "\n",
       "        <iframe\n",
       "            width=\"400\"\n",
       "            height=\"300\"\n",
       "            src=\"https://www.youtube.com/embed/7ODd3s_a2Rc\"\n",
       "            frameborder=\"0\"\n",
       "            allowfullscreen\n",
       "            \n",
       "        ></iframe>\n",
       "        "
      ],
      "text/plain": [
       "<IPython.lib.display.YouTubeVideo at 0x1190963d0>"
      ]
     },
     "execution_count": 1,
     "metadata": {},
     "output_type": "execute_result"
    }
   ],
   "source": [
    "from IPython.display import YouTubeVideo\n",
    "YouTubeVideo('7ODd3s_a2Rc')"
   ]
  },
  {
   "cell_type": "code",
   "execution_count": 45,
   "metadata": {},
   "outputs": [
    {
     "data": {
      "image/svg+xml": [
       "<svg xmlns=\"http://www.w3.org/2000/svg\" xmlns:xlink=\"http://www.w3.org/1999/xlink\" width=\"800\" height=\"500\">\n",
       "<circle cx=\"100\" cy=\"100\" r=\"65\" stroke=\"orange\" stroke-width=\"4\" fill=\"yellow\"/>\n",
       "\n",
       "<rect x=\"200\" y=\"300\" width=\"300\" height=\"200\" fill=\"brown\"/>\n",
       "\n",
       "<polygon points=\"170,300 530,300 350,100\"/>\n",
       "\n",
       "<circle cx=\"350\" cy=\"200\" r=\"40\" stroke=\"black\" stroke-width=\"4\" fill=\"deepskyblue\"/>\n",
       "\n",
       "<line x1=\"350\" y1=\"150\" x2=\"350\" y2=\"250\" stroke-width=\"4\" stroke=\"black\"/>\n",
       "\n",
       "<line x1=\"300\" y1=\"200\" x2=\"400\" y2=\"200\" stroke-width=\"4\" stroke=\"black\"/>\n",
       "\n",
       "<rect x=\"315\" y=\"400\" width=\"75\" height=\"100\" fill=\"red\"/>\n",
       "\n",
       "\n",
       "<line x1=\"600\" y1=\"500\" x2=\"625\" y2=\"450\" stroke-width=\"4\" stroke=\"black\"/>\n",
       "\n",
       "<line x1=\"650\" y1=\"500\" x2=\"625\" y2=\"450\" stroke-width=\"4\" stroke=\"black\"/>\n",
       "\n",
       "<line x1=\"625\" y1=\"450\" x2=\"625\" y2=\"375\" stroke-width=\"4\" stroke=\"black\"/>\n",
       "\n",
       "<circle cx=\"625\" cy=\"350\" r=\"35\" stroke=\"black\" stroke-width=\"4\" fill=\"moccasin\"/>\n",
       "\n",
       "<line x1=\"600\" y1=\"415\" x2=\"650\" y2=\"415\" stroke-width=\"4\" stroke=\"black\"/>\n",
       "\n",
       "\n",
       "\n",
       "\n",
       "\n",
       "\n",
       "</svg>"
      ],
      "text/plain": [
       "<IPython.core.display.SVG object>"
      ]
     },
     "metadata": {},
     "output_type": "display_data"
    }
   ],
   "source": [
    "%%SVG\n",
    "<svg width=\"800\" height=\"500\" xmlns=\"http://www.w3.org/2000/svg\"\n",
    "xmlns:xlink=\"http://www.w3.org/1999/xlink\">\n",
    "<circle cx=\"100\" cy=\"100\" r=\"65\" stroke=\"orange\" stroke-width=\"4\" fill=\"yellow\" />\n",
    "\n",
    "<rect x=\"200\" y=\"300\" width=\"300\" height=\"200\" fill=\"brown\" />\n",
    "\n",
    "<polygon points=\"170,300 530,300 350,100\"/>\n",
    "\n",
    "<circle cx=\"350\" cy=\"200\" r=\"40\" stroke=\"black\" stroke-width=\"4\" fill=\"deepskyblue\" />\n",
    "\n",
    "<line x1=\"350\" y1=\"150\" x2=\"350\" y2=\"250\" stroke-width=\"4\" stroke=\"black\"/>\n",
    "\n",
    "<line x1=\"300\" y1=\"200\" x2=\"400\" y2=\"200\" stroke-width=\"4\" stroke=\"black\"/>\n",
    "\n",
    "<rect x=\"315\" y=\"400\" width=\"75\" height=\"100\" fill=\"red\" />\n",
    "\n",
    "\n",
    "<line x1=\"600\" y1=\"500\" x2=\"625\" y2=\"450\" stroke-width=\"4\" stroke=\"black\"/>\n",
    "\n",
    "<line x1=\"650\" y1=\"500\" x2=\"625\" y2=\"450\" stroke-width=\"4\" stroke=\"black\"/>\n",
    "\n",
    "<line x1=\"625\" y1=\"450\" x2=\"625\" y2=\"375\" stroke-width=\"4\" stroke=\"black\"/>\n",
    "\n",
    "<circle cx=\"625\" cy=\"350\" r=\"35\" stroke=\"black\" stroke-width=\"4\" fill=\"moccasin\" />\n",
    "\n",
    "<line x1=\"600\" y1=\"415\" x2=\"650\" y2=\"415\" stroke-width=\"4\" stroke=\"black\"/>\n",
    "\n",
    "</svg>"
   ]
  }
 ],
 "metadata": {
  "kernelspec": {
   "display_name": "base",
   "language": "python",
   "name": "python3"
  },
  "language_info": {
   "codemirror_mode": {
    "name": "ipython",
    "version": 3
   },
   "file_extension": ".py",
   "mimetype": "text/x-python",
   "name": "python",
   "nbconvert_exporter": "python",
   "pygments_lexer": "ipython3",
   "version": "3.11.7"
  },
  "orig_nbformat": 4
 },
 "nbformat": 4,
 "nbformat_minor": 2
}
